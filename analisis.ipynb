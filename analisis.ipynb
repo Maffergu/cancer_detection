{
 "cells": [
  {
   "cell_type": "code",
   "execution_count": 1,
   "metadata": {},
   "outputs": [
    {
     "data": {
      "text/html": [
       "<div>\n",
       "<style scoped>\n",
       "    .dataframe tbody tr th:only-of-type {\n",
       "        vertical-align: middle;\n",
       "    }\n",
       "\n",
       "    .dataframe tbody tr th {\n",
       "        vertical-align: top;\n",
       "    }\n",
       "\n",
       "    .dataframe thead th {\n",
       "        text-align: right;\n",
       "    }\n",
       "</style>\n",
       "<table border=\"1\" class=\"dataframe\">\n",
       "  <thead>\n",
       "    <tr style=\"text-align: right;\">\n",
       "      <th></th>\n",
       "      <th>ID</th>\n",
       "      <th>Background_tissue</th>\n",
       "      <th>Class</th>\n",
       "      <th>Severity</th>\n",
       "      <th>Abnormality_X</th>\n",
       "      <th>Abnormality_Y</th>\n",
       "      <th>Radius</th>\n",
       "    </tr>\n",
       "  </thead>\n",
       "  <tbody>\n",
       "    <tr>\n",
       "      <th>0</th>\n",
       "      <td>mdb001</td>\n",
       "      <td>G</td>\n",
       "      <td>CIRC</td>\n",
       "      <td>B</td>\n",
       "      <td>535</td>\n",
       "      <td>425</td>\n",
       "      <td>197.0</td>\n",
       "    </tr>\n",
       "    <tr>\n",
       "      <th>1</th>\n",
       "      <td>mdb002</td>\n",
       "      <td>G</td>\n",
       "      <td>CIRC</td>\n",
       "      <td>B</td>\n",
       "      <td>522</td>\n",
       "      <td>280</td>\n",
       "      <td>69.0</td>\n",
       "    </tr>\n",
       "    <tr>\n",
       "      <th>2</th>\n",
       "      <td>mdb003</td>\n",
       "      <td>D</td>\n",
       "      <td>NORM</td>\n",
       "      <td>NaN</td>\n",
       "      <td>NaN</td>\n",
       "      <td>NaN</td>\n",
       "      <td>NaN</td>\n",
       "    </tr>\n",
       "    <tr>\n",
       "      <th>3</th>\n",
       "      <td>mdb004</td>\n",
       "      <td>D</td>\n",
       "      <td>NORM</td>\n",
       "      <td>NaN</td>\n",
       "      <td>NaN</td>\n",
       "      <td>NaN</td>\n",
       "      <td>NaN</td>\n",
       "    </tr>\n",
       "    <tr>\n",
       "      <th>4</th>\n",
       "      <td>mdb005</td>\n",
       "      <td>F</td>\n",
       "      <td>CIRC</td>\n",
       "      <td>B</td>\n",
       "      <td>477</td>\n",
       "      <td>133</td>\n",
       "      <td>30.0</td>\n",
       "    </tr>\n",
       "  </tbody>\n",
       "</table>\n",
       "</div>"
      ],
      "text/plain": [
       "       ID Background_tissue Class Severity Abnormality_X Abnormality_Y  Radius\n",
       "0  mdb001                 G  CIRC        B           535           425   197.0\n",
       "1  mdb002                 G  CIRC        B           522           280    69.0\n",
       "2  mdb003                 D  NORM      NaN           NaN           NaN     NaN\n",
       "3  mdb004                 D  NORM      NaN           NaN           NaN     NaN\n",
       "4  mdb005                 F  CIRC        B           477           133    30.0"
      ]
     },
     "execution_count": 1,
     "metadata": {},
     "output_type": "execute_result"
    }
   ],
   "source": [
    "#Leer txt y guardarlo en un datoframe pandas\n",
    "import pandas as pd\n",
    "\n",
    "# Leer el archivo de texto\n",
    "df = pd.read_csv('./Data/data.txt', sep=' ', header=None)\n",
    "df.columns = ['ID', 'Background_tissue', 'Class', 'Severity', 'Abnormality_X', 'Abnormality_Y', 'Radius']\n",
    "\n",
    "\n",
    "df.head()"
   ]
  },
  {
   "cell_type": "markdown",
   "metadata": {},
   "source": [
    "### A. Distribución de clases.\n",
    "I. ¿Cuántas imágenes son normales y anormales?\n",
    "\n",
    "Hay 207 imágenes normales y 123 anormales"
   ]
  },
  {
   "cell_type": "code",
   "execution_count": 13,
   "metadata": {},
   "outputs": [
    {
     "name": "stdout",
     "output_type": "stream",
     "text": [
      "207\n"
     ]
    }
   ],
   "source": [
    "#Contar cuantas veces el valor es igual a NORM en la columna class\n",
    "norm_count = df[df['Class'] == 'NORM'].shape[0]\n",
    "print(norm_count)\n"
   ]
  },
  {
   "cell_type": "code",
   "execution_count": 17,
   "metadata": {},
   "outputs": [
    {
     "name": "stdout",
     "output_type": "stream",
     "text": [
      "False\n",
      "123\n"
     ]
    }
   ],
   "source": [
    "#Revisar si hay valores vacíos en la columna\n",
    "empty_in_column = df['Class'].isnull().any()\n",
    "print(empty_in_column)\n",
    "\n",
    "#Ya que se sabe que no hay vacios se puede obtener de la siguiente manera\n",
    "anorm_count = df[df['Class'] != 'NORM'].shape[0]\n",
    "print(anorm_count)"
   ]
  },
  {
   "cell_type": "markdown",
   "metadata": {},
   "source": [
    "II. ¿Qué porcentaje corresponde a cada tipo de anormalidad (masa, calcificación, distorción arquitectónica, entre otros)?\n",
    "\n",
    "CALC = 9.09%\n",
    "\n",
    "CIRC = 7.58%\n",
    "\n",
    "SPIC = 5.76%\n",
    "\n",
    "MISC = 4.54%\n",
    "\n",
    "ARCH = 5.76%\n",
    "\n",
    "ASYM = 4.54%"
   ]
  },
  {
   "cell_type": "code",
   "execution_count": 31,
   "metadata": {},
   "outputs": [
    {
     "name": "stdout",
     "output_type": "stream",
     "text": [
      "9.090909090909092\n"
     ]
    }
   ],
   "source": [
    "rows = df.shape[0]\n",
    "CALC_count = df[df['Class'] == 'CALC'].shape[0]\n",
    "calc_percentage = (CALC_count / rows) * 100\n",
    "print(calc_percentage)"
   ]
  },
  {
   "cell_type": "code",
   "execution_count": 26,
   "metadata": {},
   "outputs": [
    {
     "name": "stdout",
     "output_type": "stream",
     "text": [
      "7.575757575757576\n"
     ]
    }
   ],
   "source": [
    "CIRC_count = df[df['Class'] == 'CIRC'].shape[0]\n",
    "circ_percentage = (CIRC_count / rows) * 100\n",
    "print(circ_percentage)"
   ]
  },
  {
   "cell_type": "code",
   "execution_count": 28,
   "metadata": {},
   "outputs": [
    {
     "name": "stdout",
     "output_type": "stream",
     "text": [
      "5.757575757575758\n"
     ]
    }
   ],
   "source": [
    "SPIC_count = df[df['Class'] == 'SPIC'].shape[0]\n",
    "spic_percentage = (SPIC_count / rows) * 100\n",
    "print(spic_percentage)"
   ]
  },
  {
   "cell_type": "code",
   "execution_count": 32,
   "metadata": {},
   "outputs": [
    {
     "name": "stdout",
     "output_type": "stream",
     "text": [
      "4.545454545454546\n"
     ]
    }
   ],
   "source": [
    "MISC_count = df[df['Class'] == 'MISC'].shape[0]\n",
    "misc_percentage = (MISC_count / rows) * 100\n",
    "print(misc_percentage)"
   ]
  },
  {
   "cell_type": "code",
   "execution_count": 33,
   "metadata": {},
   "outputs": [
    {
     "name": "stdout",
     "output_type": "stream",
     "text": [
      "5.757575757575758\n"
     ]
    }
   ],
   "source": [
    "ARCH_count = df[df['Class'] == 'ARCH'].shape[0]\n",
    "arch_percentage = (ARCH_count / rows) * 100\n",
    "print(arch_percentage)"
   ]
  },
  {
   "cell_type": "code",
   "execution_count": 34,
   "metadata": {},
   "outputs": [
    {
     "name": "stdout",
     "output_type": "stream",
     "text": [
      "4.545454545454546\n"
     ]
    }
   ],
   "source": [
    "ASYM_count = df[df['Class'] == 'ASYM'].shape[0]\n",
    "asym_percentage = (ASYM_count / rows) * 100\n",
    "print(asym_percentage)\n"
   ]
  },
  {
   "cell_type": "markdown",
   "metadata": {},
   "source": [
    "### D. Tamaño de las lesiones.\n",
    "I. ¿Qué tan grandes son las lesiones? Por ejemplo, mini-MIAS da un radio aproximada de cada lesión en píxeles.\n",
    "\n",
    "El promedio del tamaño de las lesiones es de 48.85 pixeles con una desviación estandar de 33.56. Debido a que las imágenes cuentan con un tamaño de 1024 pixeles x 1024 pixeles se puede decir que el tamaño de las lesiones es pequeño. Tomando en cuenta que un radio de 48.85 ocupa un área de 7495 pixeles de los 1,048,576 pixeles que existen en cada imagen."
   ]
  },
  {
   "cell_type": "code",
   "execution_count": 47,
   "metadata": {},
   "outputs": [
    {
     "name": "stdout",
     "output_type": "stream",
     "text": [
      "Promedio del radio de las anomalias: 48.84873949579832 +- 33.558862694477845\n"
     ]
    }
   ],
   "source": [
    "#Ya que no todas las imágenes presentn lesiones, se pueden eliminar los valores nulos\n",
    "Radius = df.dropna(subset=['Radius'])\n",
    "Radius = Radius['Radius']\n",
    "\n",
    "print(f\"Promedio del radio de las anomalias: {Radius.mean()} +- {Radius.std()}\")\n"
   ]
  },
  {
   "cell_type": "code",
   "execution_count": 45,
   "metadata": {},
   "outputs": [
    {
     "data": {
      "text/plain": [
       "<Axes: >"
      ]
     },
     "execution_count": 45,
     "metadata": {},
     "output_type": "execute_result"
    },
    {
     "data": {
      "image/png": "[encoded data removed]",
      "text/plain": [
       "<Figure size 640x480 with 1 Axes>"
      ]
     },
     "metadata": {},
     "output_type": "display_data"
    }
   ],
   "source": [
    "Radius.hist()"
   ]
  },
  {
   "cell_type": "markdown",
   "metadata": {},
   "source": []
  }
 ],
 "metadata": {
  "kernelspec": {
   "display_name": "Python 3",
   "language": "python",
   "name": "python3"
  },
  "language_info": {
   "codemirror_mode": {
    "name": "ipython",
    "version": 3
   },
   "file_extension": ".py",
   "mimetype": "text/x-python",
   "name": "python",
   "nbconvert_exporter": "python",
   "pygments_lexer": "ipython3",
   "version": "3.9.6"
  }
 },
 "nbformat": 4,
 "nbformat_minor": 2
}
