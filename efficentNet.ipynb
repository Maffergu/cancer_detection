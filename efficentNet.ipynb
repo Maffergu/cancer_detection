{
 "cells": [
  {
   "cell_type": "markdown",
   "metadata": {},
   "source": [
    "### Preparar dataset\n"
   ]
  },
  {
   "cell_type": "code",
   "execution_count": 169,
   "metadata": {},
   "outputs": [],
   "source": [
    "import pandas as pd\n",
    "import numpy as np\n",
    "import os\n",
    "from PIL import Image\n",
    "import seaborn as sns\n",
    "import matplotlib.pyplot as plt\n",
    "from scipy.stats import spearmanr\n",
    "from sklearn.model_selection import train_test_split"
   ]
  },
  {
   "cell_type": "code",
   "execution_count": 170,
   "metadata": {},
   "outputs": [
    {
     "name": "stdout",
     "output_type": "stream",
     "text": [
      "         ID Background_tissue Class Severity Abnormality_X Abnormality_Y  \\\n",
      "0    mdb001                 G  CIRC        B           535           425   \n",
      "1    mdb002                 G  CIRC        B           522           280   \n",
      "2    mdb003                 D  NORM      NaN           NaN           NaN   \n",
      "3    mdb004                 D  NORM      NaN           NaN           NaN   \n",
      "4    mdb005                 F  CIRC        B           477           133   \n",
      "..      ...               ...   ...      ...           ...           ...   \n",
      "325  mdb318                 D  NORM      NaN           NaN           NaN   \n",
      "326  mdb319                 D  NORM      NaN           NaN           NaN   \n",
      "327  mdb320                 D  NORM      NaN           NaN           NaN   \n",
      "328  mdb321                 D  NORM      NaN           NaN           NaN   \n",
      "329  mdb322                 D  NORM      NaN           NaN           NaN   \n",
      "\n",
      "     Radius  \n",
      "0     197.0  \n",
      "1      69.0  \n",
      "2       NaN  \n",
      "3       NaN  \n",
      "4      30.0  \n",
      "..      ...  \n",
      "325     NaN  \n",
      "326     NaN  \n",
      "327     NaN  \n",
      "328     NaN  \n",
      "329     NaN  \n",
      "\n",
      "[330 rows x 7 columns]\n"
     ]
    }
   ],
   "source": [
    "# Leer el archivo de texto\n",
    "df = pd.read_csv('./Data/data.txt', sep=' ', header=None)\n",
    "df.columns = ['ID', 'Background_tissue', 'Class', 'Severity', 'Abnormality_X', 'Abnormality_Y', 'Radius']\n",
    "\n",
    "print(df)"
   ]
  },
  {
   "cell_type": "code",
   "execution_count": 171,
   "metadata": {},
   "outputs": [
    {
     "name": "stdout",
     "output_type": "stream",
     "text": [
      "                  ruta_imagen\n",
      "0   imgs/mdb100/mdb100_HR.png\n",
      "1   imgs/mdb044/mdb044_HR.png\n",
      "2   imgs/mdb088/mdb088_HR.png\n",
      "3   imgs/mdb043/mdb043_HR.png\n",
      "4   imgs/mdb075/mdb075_HR.png\n",
      "..                        ...\n",
      "95  imgs/mdb009/mdb009_HR.png\n",
      "96  imgs/mdb036/mdb036_HR.png\n",
      "97  imgs/mdb031/mdb031_HR.png\n",
      "98  imgs/mdb038/mdb038_HR.png\n",
      "99  imgs/mdb007/mdb007_HR.png\n",
      "\n",
      "[100 rows x 1 columns]\n"
     ]
    }
   ],
   "source": [
    "ruta_carpeta_principal = 'imgs'\n",
    "# Lista para almacenar las rutas de las imágenes\n",
    "rutas_imagenes_hr = []\n",
    "\n",
    "# Recorrer todas las carpetas y archivos dentro de la carpeta principal\n",
    "for directorio, subdirectorios, archivos in os.walk(ruta_carpeta_principal):\n",
    "    for archivo in archivos:\n",
    "        if archivo.endswith('_HR.png'):\n",
    "            ruta_completa = os.path.join(directorio, archivo)\n",
    "            rutas_imagenes_hr.append(ruta_completa)\n",
    "\n",
    "\n",
    "df_imagenes_hr = pd.DataFrame({'ruta_imagen': rutas_imagenes_hr})\n",
    "print(df_imagenes_hr)\n"
   ]
  },
  {
   "cell_type": "code",
   "execution_count": 172,
   "metadata": {},
   "outputs": [],
   "source": [
    "# Extraer el ID base del DataFrame de rutas\n",
    "df_imagenes_hr['ID_base'] = df_imagenes_hr['ruta_imagen'].str.split('/').str[-1].str.replace('_HR.png', '')\n",
    "\n",
    "# Realizar la fusión de los DataFrames\n",
    "df_merged = pd.merge(df, df_imagenes_hr, left_on='ID', right_on='ID_base', how='left')\n",
    "\n",
    "# Eliminar la columna auxiliar 'ID_base' si ya no la necesitas\n",
    "df_merged.drop(columns=['ID_base'], inplace=True)\n",
    "\n",
    "df_merged = df_merged.dropna(subset=['ruta_imagen'])\n",
    "\n",
    "df_merged.to_csv('rutas_imagenes_hr.csv', index=False)\n"
   ]
  },
  {
   "cell_type": "markdown",
   "metadata": {},
   "source": [
    "### Llenar valores vacíos y aplicar one hot encoding en columnas necesarias"
   ]
  },
  {
   "cell_type": "code",
   "execution_count": 173,
   "metadata": {},
   "outputs": [],
   "source": [
    "df_merged[['Abnormality_X', 'Abnormality_Y', 'Radius']] = df_merged[['Abnormality_X', 'Abnormality_Y', 'Radius']].fillna(-1)\n",
    "\n",
    "\n",
    "columnas_a_codificar = ['Background_tissue', 'Class', 'Severity']\n",
    "df_encoded = pd.get_dummies(df_merged[columnas_a_codificar], prefix=columnas_a_codificar)\n",
    "\n",
    "columnas_originales = [col for col in df_merged.columns if col not in columnas_a_codificar]\n",
    "\n",
    "df_original_no_codificado = df_merged[columnas_originales]\n",
    "\n",
    "\n",
    "df_merged = pd.concat([df_original_no_codificado, df_encoded], axis=1)\n",
    "\n",
    "\n",
    "df_merged.to_csv('rutas_imagenes_hr.csv', index=False)"
   ]
  },
  {
   "cell_type": "markdown",
   "metadata": {},
   "source": [
    "### Inicia modelo\n"
   ]
  },
  {
   "cell_type": "code",
   "execution_count": 174,
   "metadata": {},
   "outputs": [
    {
     "data": {
      "image/png": "[encoded data removed]",
      "text/plain": [
       "<Figure size 640x480 with 1 Axes>"
      ]
     },
     "metadata": {},
     "output_type": "display_data"
    }
   ],
   "source": [
    "import os\n",
    "import pandas as pd\n",
    "import numpy as np\n",
    "import cv2\n",
    "import matplotlib.pyplot as plt\n",
    "from sklearn.model_selection import train_test_split\n",
    "import tensorflow as tf\n",
    "df= df_merged\n",
    "# Definimos el tamaño de entrada para EfficientNet B0\n",
    "IMG_SIZE = (224, 224)\n",
    "\n",
    "def load_and_preprocess_image(img_path):\n",
    "    \"\"\"Carga y preprocesa una imagen.\"\"\"\n",
    "    # Cargar imagen\n",
    "    img = cv2.imread(img_path)\n",
    "    # Redimensionar\n",
    "    img = cv2.resize(img, IMG_SIZE)\n",
    "    # Convertir a float32 y normalizar\n",
    "    img = img.astype('float32') / 255.0\n",
    "    return img\n",
    "\n",
    "# Probamos la función de carga con una imagen\n",
    "sample_img_path = df['ruta_imagen'].iloc[0]\n",
    "sample_img = load_and_preprocess_image(sample_img_path)\n",
    "\n",
    "plt.imshow(sample_img)\n",
    "plt.title(\"Imagen Preprocesada\")\n",
    "plt.axis(\"off\")\n",
    "plt.show()\n"
   ]
  },
  {
   "cell_type": "code",
   "execution_count": 175,
   "metadata": {},
   "outputs": [
    {
     "name": "stdout",
     "output_type": "stream",
     "text": [
      "Forma de images: (101, 224, 224, 3)\n",
      "Forma de labels: (101, 4)\n",
      "X_train shape: (80, 224, 224, 3), y_train shape: (80, 4)\n",
      "X_test shape: (21, 224, 224, 3), y_test shape: (21, 4)\n"
     ]
    }
   ],
   "source": [
    "from sklearn.model_selection import train_test_split\n",
    "# Definir las etiquetas utilizando las clases de interés\n",
    "labels = df[['Class_ASYM', 'Class_CIRC', 'Class_MISC', 'Class_NORM']].values\n",
    "\n",
    "# Carga todas las imágenes y sus respectivas etiquetas\n",
    "images = np.array([load_and_preprocess_image(img_path) for img_path in df['ruta_imagen']])\n",
    "\n",
    "print(f\"Forma de images: {images.shape}\")  # Debe ser (n_samples, 224, 224, 3)\n",
    "print(f\"Forma de labels: {labels.shape}\")  # Debe ser (n_samples, 4)\n",
    "\n",
    "\n",
    "# División en entrenamiento y prueba\n",
    "X_train, X_test, y_train, y_test = train_test_split(images, labels, test_size=0.2, random_state=42, stratify=labels)\n",
    "\n",
    "# Verificamos las formas de los conjuntos\n",
    "print(f\"X_train shape: {X_train.shape}, y_train shape: {y_train.shape}\")\n",
    "print(f\"X_test shape: {X_test.shape}, y_test shape: {y_test.shape}\")\n"
   ]
  },
  {
   "cell_type": "markdown",
   "metadata": {},
   "source": [
    "### Implementacion del modelo"
   ]
  },
  {
   "cell_type": "code",
   "execution_count": 176,
   "metadata": {},
   "outputs": [
    {
     "data": {
      "text/html": [
       "<pre style=\"white-space:pre;overflow-x:auto;line-height:normal;font-family:Menlo,'DejaVu Sans Mono',consolas,'Courier New',monospace\"><span style=\"font-weight: bold\">Model: \"sequential_2\"</span>\n",
       "</pre>\n"
      ],
      "text/plain": [
       "\u001b[1mModel: \"sequential_2\"\u001b[0m\n"
      ]
     },
     "metadata": {},
     "output_type": "display_data"
    },
    {
     "data": {
      "text/html": [
       "<pre style=\"white-space:pre;overflow-x:auto;line-height:normal;font-family:Menlo,'DejaVu Sans Mono',consolas,'Courier New',monospace\">┏━━━━━━━━━━━━━━━━━━━━━━━━━━━━━━━━━┳━━━━━━━━━━━━━━━━━━━━━━━━┳━━━━━━━━━━━━━━━┓\n",
       "┃<span style=\"font-weight: bold\"> Layer (type)                    </span>┃<span style=\"font-weight: bold\"> Output Shape           </span>┃<span style=\"font-weight: bold\">       Param # </span>┃\n",
       "┡━━━━━━━━━━━━━━━━━━━━━━━━━━━━━━━━━╇━━━━━━━━━━━━━━━━━━━━━━━━╇━━━━━━━━━━━━━━━┩\n",
       "│ efficientnetb0 (<span style=\"color: #0087ff; text-decoration-color: #0087ff\">Functional</span>)     │ (<span style=\"color: #00d7ff; text-decoration-color: #00d7ff\">None</span>, <span style=\"color: #00af00; text-decoration-color: #00af00\">7</span>, <span style=\"color: #00af00; text-decoration-color: #00af00\">7</span>, <span style=\"color: #00af00; text-decoration-color: #00af00\">1280</span>)     │     <span style=\"color: #00af00; text-decoration-color: #00af00\">4,049,571</span> │\n",
       "├─────────────────────────────────┼────────────────────────┼───────────────┤\n",
       "│ global_average_pooling2d_5      │ (<span style=\"color: #00d7ff; text-decoration-color: #00d7ff\">None</span>, <span style=\"color: #00af00; text-decoration-color: #00af00\">1280</span>)           │             <span style=\"color: #00af00; text-decoration-color: #00af00\">0</span> │\n",
       "│ (<span style=\"color: #0087ff; text-decoration-color: #0087ff\">GlobalAveragePooling2D</span>)        │                        │               │\n",
       "├─────────────────────────────────┼────────────────────────┼───────────────┤\n",
       "│ dense_55 (<span style=\"color: #0087ff; text-decoration-color: #0087ff\">Dense</span>)                │ (<span style=\"color: #00d7ff; text-decoration-color: #00d7ff\">None</span>, <span style=\"color: #00af00; text-decoration-color: #00af00\">128</span>)            │       <span style=\"color: #00af00; text-decoration-color: #00af00\">163,968</span> │\n",
       "├─────────────────────────────────┼────────────────────────┼───────────────┤\n",
       "│ dense_56 (<span style=\"color: #0087ff; text-decoration-color: #0087ff\">Dense</span>)                │ (<span style=\"color: #00d7ff; text-decoration-color: #00d7ff\">None</span>, <span style=\"color: #00af00; text-decoration-color: #00af00\">4</span>)              │           <span style=\"color: #00af00; text-decoration-color: #00af00\">516</span> │\n",
       "└─────────────────────────────────┴────────────────────────┴───────────────┘\n",
       "</pre>\n"
      ],
      "text/plain": [
       "┏━━━━━━━━━━━━━━━━━━━━━━━━━━━━━━━━━┳━━━━━━━━━━━━━━━━━━━━━━━━┳━━━━━━━━━━━━━━━┓\n",
       "┃\u001b[1m \u001b[0m\u001b[1mLayer (type)                   \u001b[0m\u001b[1m \u001b[0m┃\u001b[1m \u001b[0m\u001b[1mOutput Shape          \u001b[0m\u001b[1m \u001b[0m┃\u001b[1m \u001b[0m\u001b[1m      Param #\u001b[0m\u001b[1m \u001b[0m┃\n",
       "┡━━━━━━━━━━━━━━━━━━━━━━━━━━━━━━━━━╇━━━━━━━━━━━━━━━━━━━━━━━━╇━━━━━━━━━━━━━━━┩\n",
       "│ efficientnetb0 (\u001b[38;5;33mFunctional\u001b[0m)     │ (\u001b[38;5;45mNone\u001b[0m, \u001b[38;5;34m7\u001b[0m, \u001b[38;5;34m7\u001b[0m, \u001b[38;5;34m1280\u001b[0m)     │     \u001b[38;5;34m4,049,571\u001b[0m │\n",
       "├─────────────────────────────────┼────────────────────────┼───────────────┤\n",
       "│ global_average_pooling2d_5      │ (\u001b[38;5;45mNone\u001b[0m, \u001b[38;5;34m1280\u001b[0m)           │             \u001b[38;5;34m0\u001b[0m │\n",
       "│ (\u001b[38;5;33mGlobalAveragePooling2D\u001b[0m)        │                        │               │\n",
       "├─────────────────────────────────┼────────────────────────┼───────────────┤\n",
       "│ dense_55 (\u001b[38;5;33mDense\u001b[0m)                │ (\u001b[38;5;45mNone\u001b[0m, \u001b[38;5;34m128\u001b[0m)            │       \u001b[38;5;34m163,968\u001b[0m │\n",
       "├─────────────────────────────────┼────────────────────────┼───────────────┤\n",
       "│ dense_56 (\u001b[38;5;33mDense\u001b[0m)                │ (\u001b[38;5;45mNone\u001b[0m, \u001b[38;5;34m4\u001b[0m)              │           \u001b[38;5;34m516\u001b[0m │\n",
       "└─────────────────────────────────┴────────────────────────┴───────────────┘\n"
      ]
     },
     "metadata": {},
     "output_type": "display_data"
    },
    {
     "data": {
      "text/html": [
       "<pre style=\"white-space:pre;overflow-x:auto;line-height:normal;font-family:Menlo,'DejaVu Sans Mono',consolas,'Courier New',monospace\"><span style=\"font-weight: bold\"> Total params: </span><span style=\"color: #00af00; text-decoration-color: #00af00\">4,214,055</span> (16.08 MB)\n",
       "</pre>\n"
      ],
      "text/plain": [
       "\u001b[1m Total params: \u001b[0m\u001b[38;5;34m4,214,055\u001b[0m (16.08 MB)\n"
      ]
     },
     "metadata": {},
     "output_type": "display_data"
    },
    {
     "data": {
      "text/html": [
       "<pre style=\"white-space:pre;overflow-x:auto;line-height:normal;font-family:Menlo,'DejaVu Sans Mono',consolas,'Courier New',monospace\"><span style=\"font-weight: bold\"> Trainable params: </span><span style=\"color: #00af00; text-decoration-color: #00af00\">164,484</span> (642.52 KB)\n",
       "</pre>\n"
      ],
      "text/plain": [
       "\u001b[1m Trainable params: \u001b[0m\u001b[38;5;34m164,484\u001b[0m (642.52 KB)\n"
      ]
     },
     "metadata": {},
     "output_type": "display_data"
    },
    {
     "data": {
      "text/html": [
       "<pre style=\"white-space:pre;overflow-x:auto;line-height:normal;font-family:Menlo,'DejaVu Sans Mono',consolas,'Courier New',monospace\"><span style=\"font-weight: bold\"> Non-trainable params: </span><span style=\"color: #00af00; text-decoration-color: #00af00\">4,049,571</span> (15.45 MB)\n",
       "</pre>\n"
      ],
      "text/plain": [
       "\u001b[1m Non-trainable params: \u001b[0m\u001b[38;5;34m4,049,571\u001b[0m (15.45 MB)\n"
      ]
     },
     "metadata": {},
     "output_type": "display_data"
    }
   ],
   "source": [
    "from tensorflow.keras.applications import EfficientNetB0\n",
    "from tensorflow.keras.models import Sequential\n",
    "from tensorflow.keras.layers import Dense, GlobalAveragePooling2D\n",
    "from tensorflow.keras.optimizers import Adam\n",
    "\n",
    "# Número de clases (4 clases: ASYM, CIRC, MISC, NORM)\n",
    "NUM_CLASSES = 4\n",
    "\n",
    "# Cargar EfficientNet B0 preentrenado en ImageNet, sin la capa superior\n",
    "base_model = EfficientNetB0(weights='imagenet', include_top=False, input_shape=(224, 224, 3))\n",
    "base_model.trainable = False\n",
    "\n",
    "# Modelo secuencial\n",
    "model = Sequential([\n",
    "    base_model,\n",
    "    GlobalAveragePooling2D(),\n",
    "    Dense(128, activation='relu'),  # Capa oculta\n",
    "    Dense(NUM_CLASSES, activation='softmax')  # Capa de salida con softmax\n",
    "])\n",
    "\n",
    "# Compilamos el modelo\n",
    "model.compile(\n",
    "    optimizer=Adam(learning_rate=0.001),\n",
    "    loss='categorical_crossentropy',\n",
    "    metrics=['accuracy']\n",
    ")\n",
    "\n",
    "# Resumen del modelo\n",
    "model.summary()\n"
   ]
  },
  {
   "cell_type": "code",
   "execution_count": 177,
   "metadata": {},
   "outputs": [
    {
     "name": "stdout",
     "output_type": "stream",
     "text": [
      "Epoch 1/100\n",
      "\u001b[1m4/4\u001b[0m \u001b[32m━━━━━━━━━━━━━━━━━━━━\u001b[0m\u001b[37m\u001b[0m \u001b[1m0s\u001b[0m 135ms/step - accuracy: 0.3294 - loss: 1.2727"
     ]
    },
    {
     "name": "stderr",
     "output_type": "stream",
     "text": [
      "WARNING:absl:You are saving your model as an HDF5 file via `model.save()` or `keras.saving.save_model(model)`. This file format is considered legacy. We recommend using instead the native Keras format, e.g. `model.save('my_model.keras')` or `keras.saving.save_model(model, 'my_model.keras')`. \n"
     ]
    },
    {
     "name": "stdout",
     "output_type": "stream",
     "text": [
      "\u001b[1m4/4\u001b[0m \u001b[32m━━━━━━━━━━━━━━━━━━━━\u001b[0m\u001b[37m\u001b[0m \u001b[1m4s\u001b[0m 462ms/step - accuracy: 0.3604 - loss: 1.2590 - val_accuracy: 0.7500 - val_loss: 0.8551\n",
      "Epoch 2/100\n",
      "\u001b[1m4/4\u001b[0m \u001b[32m━━━━━━━━━━━━━━━━━━━━\u001b[0m\u001b[37m\u001b[0m \u001b[1m0s\u001b[0m 103ms/step - accuracy: 0.6523 - loss: 1.0939"
     ]
    },
    {
     "name": "stderr",
     "output_type": "stream",
     "text": [
      "WARNING:absl:You are saving your model as an HDF5 file via `model.save()` or `keras.saving.save_model(model)`. This file format is considered legacy. We recommend using instead the native Keras format, e.g. `model.save('my_model.keras')` or `keras.saving.save_model(model, 'my_model.keras')`. \n"
     ]
    },
    {
     "name": "stdout",
     "output_type": "stream",
     "text": [
      "\u001b[1m4/4\u001b[0m \u001b[32m━━━━━━━━━━━━━━━━━━━━\u001b[0m\u001b[37m\u001b[0m \u001b[1m1s\u001b[0m 168ms/step - accuracy: 0.6562 - loss: 1.0793 - val_accuracy: 0.7500 - val_loss: 0.7249\n",
      "Epoch 3/100\n",
      "\u001b[1m4/4\u001b[0m \u001b[32m━━━━━━━━━━━━━━━━━━━━\u001b[0m\u001b[37m\u001b[0m \u001b[1m1s\u001b[0m 148ms/step - accuracy: 0.6167 - loss: 1.1030 - val_accuracy: 0.7500 - val_loss: 0.7261\n",
      "Epoch 4/100\n",
      "\u001b[1m4/4\u001b[0m \u001b[32m━━━━━━━━━━━━━━━━━━━━\u001b[0m\u001b[37m\u001b[0m \u001b[1m1s\u001b[0m 151ms/step - accuracy: 0.6625 - loss: 1.0359 - val_accuracy: 0.7500 - val_loss: 0.7546\n",
      "Epoch 5/100\n",
      "\u001b[1m4/4\u001b[0m \u001b[32m━━━━━━━━━━━━━━━━━━━━\u001b[0m\u001b[37m\u001b[0m \u001b[1m1s\u001b[0m 153ms/step - accuracy: 0.6104 - loss: 1.1607 - val_accuracy: 0.7500 - val_loss: 0.7878\n",
      "Epoch 6/100\n",
      "\u001b[1m4/4\u001b[0m \u001b[32m━━━━━━━━━━━━━━━━━━━━\u001b[0m\u001b[37m\u001b[0m \u001b[1m1s\u001b[0m 148ms/step - accuracy: 0.6458 - loss: 1.0110 - val_accuracy: 0.7500 - val_loss: 0.7806\n",
      "Epoch 7/100\n",
      "\u001b[1m4/4\u001b[0m \u001b[32m━━━━━━━━━━━━━━━━━━━━\u001b[0m\u001b[37m\u001b[0m \u001b[1m1s\u001b[0m 151ms/step - accuracy: 0.6750 - loss: 1.0089 - val_accuracy: 0.7500 - val_loss: 0.7615\n"
     ]
    }
   ],
   "source": [
    "from tensorflow.keras.callbacks import EarlyStopping, ModelCheckpoint\n",
    "\n",
    "# Configuramos callbacks\n",
    "early_stop = EarlyStopping(monitor='val_loss', patience=5, restore_best_weights=True)\n",
    "\n",
    "checkpoint = ModelCheckpoint('best_model.h5', monitor='val_loss', save_best_only=True)\n",
    "\n",
    "# Entrenar el modelo\n",
    "history = model.fit(\n",
    "    X_train, y_train,\n",
    "    validation_split=0.2, \n",
    "    epochs=100,\n",
    "    batch_size=16,\n",
    "    callbacks=[early_stop, checkpoint]\n",
    ")\n"
   ]
  },
  {
   "cell_type": "code",
   "execution_count": 180,
   "metadata": {},
   "outputs": [
    {
     "name": "stdout",
     "output_type": "stream",
     "text": [
      "1/1 - 0s - 319ms/step - accuracy: 0.7143 - loss: 0.8994\n",
      "Loss en test: 0.8994\n",
      "Accuracy en test: 0.7143\n"
     ]
    }
   ],
   "source": [
    "# Evaluar el modelo en el conjunto de prueba\n",
    "test_loss, test_acc = model.evaluate(X_test, y_test, verbose=2)\n",
    "\n",
    "print(f\"Loss en test: {test_loss:.4f}\")\n",
    "print(f\"Accuracy en test: {test_acc:.4f}\")\n"
   ]
  }
 ],
 "metadata": {
  "kernelspec": {
   "display_name": "my_new_env",
   "language": "python",
   "name": "python3"
  },
  "language_info": {
   "codemirror_mode": {
    "name": "ipython",
    "version": 3
   },
   "file_extension": ".py",
   "mimetype": "text/x-python",
   "name": "python",
   "nbconvert_exporter": "python",
   "pygments_lexer": "ipython3",
   "version": "3.12.7"
  }
 },
 "nbformat": 4,
 "nbformat_minor": 2
}
