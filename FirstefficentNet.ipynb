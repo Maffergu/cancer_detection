{
 "cells": [
  {
   "cell_type": "markdown",
   "metadata": {},
   "source": [
    "### Preparar dataset\n"
   ]
  },
  {
   "cell_type": "code",
   "execution_count": 428,
   "metadata": {},
   "outputs": [],
   "source": [
    "import pandas as pd\n",
    "import numpy as np\n",
    "import os\n",
    "from PIL import Image\n",
    "import seaborn as sns\n",
    "import matplotlib.pyplot as plt\n",
    "from scipy.stats import spearmanr\n",
    "from sklearn.model_selection import train_test_split"
   ]
  },
  {
   "cell_type": "code",
   "execution_count": 429,
   "metadata": {},
   "outputs": [
    {
     "name": "stdout",
     "output_type": "stream",
     "text": [
      "         ID Background_tissue Class Severity Abnormality_X Abnormality_Y  \\\n",
      "0    mdb001                 G  CIRC        B           535           425   \n",
      "1    mdb002                 G  CIRC        B           522           280   \n",
      "2    mdb003                 D  NORM      NaN           NaN           NaN   \n",
      "3    mdb004                 D  NORM      NaN           NaN           NaN   \n",
      "4    mdb005                 F  CIRC        B           477           133   \n",
      "..      ...               ...   ...      ...           ...           ...   \n",
      "325  mdb318                 D  NORM      NaN           NaN           NaN   \n",
      "326  mdb319                 D  NORM      NaN           NaN           NaN   \n",
      "327  mdb320                 D  NORM      NaN           NaN           NaN   \n",
      "328  mdb321                 D  NORM      NaN           NaN           NaN   \n",
      "329  mdb322                 D  NORM      NaN           NaN           NaN   \n",
      "\n",
      "     Radius  \n",
      "0     197.0  \n",
      "1      69.0  \n",
      "2       NaN  \n",
      "3       NaN  \n",
      "4      30.0  \n",
      "..      ...  \n",
      "325     NaN  \n",
      "326     NaN  \n",
      "327     NaN  \n",
      "328     NaN  \n",
      "329     NaN  \n",
      "\n",
      "[330 rows x 7 columns]\n"
     ]
    }
   ],
   "source": [
    "# Leer el archivo de texto\n",
    "df = pd.read_csv('./Data/data.txt', sep=' ', header=None)\n",
    "df.columns = ['ID', 'Background_tissue', 'Class', 'Severity', 'Abnormality_X', 'Abnormality_Y', 'Radius']\n",
    "\n",
    "print(df)"
   ]
  },
  {
   "cell_type": "code",
   "execution_count": 430,
   "metadata": {},
   "outputs": [
    {
     "name": "stdout",
     "output_type": "stream",
     "text": [
      "               ruta_imagen\n",
      "0    outputs/mdb266_SR.png\n",
      "1    outputs/mdb278_SR.png\n",
      "2    outputs/mdb305_SR.png\n",
      "3    outputs/mdb205_SR.png\n",
      "4    outputs/mdb274_SR.png\n",
      "..                     ...\n",
      "317  outputs/mdb259_SR.png\n",
      "318  outputs/mdb193_SR.png\n",
      "319  outputs/mdb093_SR.png\n",
      "320  outputs/mdb224_SR.png\n",
      "321  outputs/mdb247_SR.png\n",
      "\n",
      "[322 rows x 1 columns]\n"
     ]
    }
   ],
   "source": [
    "import os\n",
    "import pandas as pd\n",
    "\n",
    "# Ruta de la carpeta principal (ahora sin subcarpetas)\n",
    "ruta_carpeta_principal = 'outputs'\n",
    "\n",
    "# Lista para almacenar las rutas de las imágenes\n",
    "rutas_imagenes_hr = []\n",
    "\n",
    "# Recorrer solo los archivos directamente en la carpeta\n",
    "for archivo in os.listdir(ruta_carpeta_principal):\n",
    "    if archivo.endswith('_SR.png'):\n",
    "        ruta_completa = os.path.join(ruta_carpeta_principal, archivo)\n",
    "        rutas_imagenes_hr.append(ruta_completa)\n",
    "\n",
    "# Crear DataFrame\n",
    "df_imagenes_hr = pd.DataFrame({'ruta_imagen': rutas_imagenes_hr})\n",
    "print(df_imagenes_hr)\n"
   ]
  },
  {
   "cell_type": "code",
   "execution_count": 431,
   "metadata": {},
   "outputs": [],
   "source": [
    "# Extraer el ID base del DataFrame de rutas\n",
    "df_imagenes_hr['ID_base'] = df_imagenes_hr['ruta_imagen'].str.split('/').str[-1].str.replace('_SR.png', '')\n",
    "\n",
    "# Realizar la fusión de los DataFrames\n",
    "df_merged = pd.merge(df, df_imagenes_hr, left_on='ID', right_on='ID_base', how='left')\n",
    "\n",
    "# Eliminar la columna auxiliar 'ID_base' si ya no la necesitas\n",
    "df_merged.drop(columns=['ID_base'], inplace=True)\n",
    "\n",
    "df_merged = df_merged.dropna(subset=['ruta_imagen'])\n",
    "\n",
    "df_merged.to_csv('rutas_imagenes_hr.csv', index=False)"
   ]
  },
  {
   "cell_type": "markdown",
   "metadata": {},
   "source": [
    "### Llenar valores vacíos y aplicar one hot encoding en columnas necesarias"
   ]
  },
  {
   "cell_type": "code",
   "execution_count": 432,
   "metadata": {},
   "outputs": [],
   "source": [
    "df_merged[['Abnormality_X', 'Abnormality_Y', 'Radius']] = df_merged[['Abnormality_X', 'Abnormality_Y', 'Radius']].fillna(-1)\n",
    "\n",
    "\n",
    "columnas_a_codificar = ['Background_tissue', 'Class', 'Severity']\n",
    "df_encoded = pd.get_dummies(df_merged[columnas_a_codificar], prefix=columnas_a_codificar)\n",
    "\n",
    "columnas_originales = [col for col in df_merged.columns if col not in columnas_a_codificar]\n",
    "\n",
    "df_original_no_codificado = df_merged[columnas_originales]\n",
    "\n",
    "\n",
    "df_merged = pd.concat([df_original_no_codificado, df_encoded], axis=1)\n",
    "\n",
    "\n",
    "df_merged.to_csv('rutas_imagenes_hr.csv', index=False)"
   ]
  },
  {
   "cell_type": "markdown",
   "metadata": {},
   "source": [
    "### Data Augmentation"
   ]
  },
  {
   "cell_type": "code",
   "execution_count": 433,
   "metadata": {},
   "outputs": [
    {
     "data": {
      "text/plain": [
       "'import os\\nimport pandas as pd\\nfrom tensorflow.keras.preprocessing.image import ImageDataGenerator, load_img, img_to_array, array_to_img\\nfrom tqdm import tqdm\\nimport shutil\\n\\n# Carga tu CSV\\ndf = df_merged\\n\\n# Define las clases\\nclass_columns = [\\'Class_ASYM\\', \\'Class_CIRC\\', \\'Class_MISC\\', \\'Class_NORM\\']\\ndf[\\'target_class\\'] = df[class_columns].idxmax(axis=1).str.replace(\"Class_\", \"\")\\n\\n# Generador de augmentación (sin zoom_range)\\ndatagen = ImageDataGenerator(\\n    rotation_range=20,\\n    width_shift_range=0.1,\\n    height_shift_range=0.1,\\n    shear_range=10,\\n    # zoom_range=0.1, # Esta línea ha sido eliminada o comentada\\n    horizontal_flip=True,\\n    fill_mode=\\'nearest\\'\\n)\\n\\n# Función para augmentar una clase\\ndef augment_class_to_csv(df, class_name, target_total=200, output_csv=\"dataset_augmented.csv\"):\\n    os.makedirs(f\"dataset_augmented_images/{class_name}\", exist_ok=True)\\n\\n    class_df = df[df[\\'target_class\\'] == class_name].copy()\\n    current_count = len(class_df)\\n    generated_count = 0\\n    new_rows = []\\n\\n    print(f\"Aumentando clase {class_name} de {current_count} a {target_total} muestras...\")\\n\\n    while current_count + generated_count < target_total:\\n        for idx, row in tqdm(class_df.iterrows(), total=len(class_df), desc=f\"Procesando {class_name}\"): # Añadido tqdm\\n            img_path = row[\\'ruta_imagen\\']\\n            img = load_img(img_path)\\n            x = img_to_array(img)\\n            x = x.reshape((1,) + x.shape)\\n\\n            for batch in datagen.flow(x, batch_size=1):\\n                # Generar nueva imagen\\n                new_id = f\"{row[\\'ID\\']}_aug_{generated_count}\"\\n                new_filename = f\"{new_id}.png\"\\n                new_path = f\"dataset_augmented_images/{class_name}/{new_filename}\"\\n\\n                array_to_img(batch[0]).save(new_path)\\n\\n                # Crear nuevo registro\\n                new_row = row.copy()\\n                new_row[\\'ID\\'] = new_id\\n                new_row[\\'ruta_imagen\\'] = new_path\\n                new_rows.append(new_row)\\n\\n                generated_count += 1\\n                if current_count + generated_count >= target_total:\\n                    break\\n        if generated_count == 0: # Si no se generaron nuevas imágenes en un ciclo completo, romper\\n            break\\n\\n    # Guardar en CSV\\n    df_aug = pd.DataFrame(new_rows)\\n    df_final = pd.concat([df, df_aug], ignore_index=True)\\n    df_final.to_csv(output_csv, index=False)\\n    print(f\"Guardado en {output_csv}. Total actual para {class_name}: {len(df_final[df_final[\\'target_class\\'] == class_name])}\")\\n\\n    return df_final\\n\\n# Aplicar a clases minoritarias\\ndf = augment_class_to_csv(df, \"ASYM\", target_total=200)\\ndf = augment_class_to_csv(df, \"CIRC\", target_total=200)\\ndf = augment_class_to_csv(df, \"MISC\", target_total=200)'"
      ]
     },
     "execution_count": 433,
     "metadata": {},
     "output_type": "execute_result"
    }
   ],
   "source": [
    "'''import os\n",
    "import pandas as pd\n",
    "from tensorflow.keras.preprocessing.image import ImageDataGenerator, load_img, img_to_array, array_to_img\n",
    "from tqdm import tqdm\n",
    "import shutil\n",
    "\n",
    "# Carga tu CSV\n",
    "df = df_merged\n",
    "\n",
    "# Define las clases\n",
    "class_columns = ['Class_ASYM', 'Class_CIRC', 'Class_MISC', 'Class_NORM']\n",
    "df['target_class'] = df[class_columns].idxmax(axis=1).str.replace(\"Class_\", \"\")\n",
    "\n",
    "# Generador de augmentación (sin zoom_range)\n",
    "datagen = ImageDataGenerator(\n",
    "    rotation_range=20,\n",
    "    width_shift_range=0.1,\n",
    "    height_shift_range=0.1,\n",
    "    shear_range=10,\n",
    "    # zoom_range=0.1, # Esta línea ha sido eliminada o comentada\n",
    "    horizontal_flip=True,\n",
    "    fill_mode='nearest'\n",
    ")\n",
    "\n",
    "# Función para augmentar una clase\n",
    "def augment_class_to_csv(df, class_name, target_total=200, output_csv=\"dataset_augmented.csv\"):\n",
    "    os.makedirs(f\"dataset_augmented_images/{class_name}\", exist_ok=True)\n",
    "\n",
    "    class_df = df[df['target_class'] == class_name].copy()\n",
    "    current_count = len(class_df)\n",
    "    generated_count = 0\n",
    "    new_rows = []\n",
    "\n",
    "    print(f\"Aumentando clase {class_name} de {current_count} a {target_total} muestras...\")\n",
    "\n",
    "    while current_count + generated_count < target_total:\n",
    "        for idx, row in tqdm(class_df.iterrows(), total=len(class_df), desc=f\"Procesando {class_name}\"): # Añadido tqdm\n",
    "            img_path = row['ruta_imagen']\n",
    "            img = load_img(img_path)\n",
    "            x = img_to_array(img)\n",
    "            x = x.reshape((1,) + x.shape)\n",
    "\n",
    "            for batch in datagen.flow(x, batch_size=1):\n",
    "                # Generar nueva imagen\n",
    "                new_id = f\"{row['ID']}_aug_{generated_count}\"\n",
    "                new_filename = f\"{new_id}.png\"\n",
    "                new_path = f\"dataset_augmented_images/{class_name}/{new_filename}\"\n",
    "\n",
    "                array_to_img(batch[0]).save(new_path)\n",
    "\n",
    "                # Crear nuevo registro\n",
    "                new_row = row.copy()\n",
    "                new_row['ID'] = new_id\n",
    "                new_row['ruta_imagen'] = new_path\n",
    "                new_rows.append(new_row)\n",
    "\n",
    "                generated_count += 1\n",
    "                if current_count + generated_count >= target_total:\n",
    "                    break\n",
    "        if generated_count == 0: # Si no se generaron nuevas imágenes en un ciclo completo, romper\n",
    "            break\n",
    "\n",
    "    # Guardar en CSV\n",
    "    df_aug = pd.DataFrame(new_rows)\n",
    "    df_final = pd.concat([df, df_aug], ignore_index=True)\n",
    "    df_final.to_csv(output_csv, index=False)\n",
    "    print(f\"Guardado en {output_csv}. Total actual para {class_name}: {len(df_final[df_final['target_class'] == class_name])}\")\n",
    "\n",
    "    return df_final\n",
    "\n",
    "# Aplicar a clases minoritarias\n",
    "df = augment_class_to_csv(df, \"ASYM\", target_total=200)\n",
    "df = augment_class_to_csv(df, \"CIRC\", target_total=200)\n",
    "df = augment_class_to_csv(df, \"MISC\", target_total=200)'''"
   ]
  },
  {
   "cell_type": "markdown",
   "metadata": {},
   "source": [
    "### Inicia modelo\n"
   ]
  },
  {
   "cell_type": "code",
   "execution_count": 434,
   "metadata": {},
   "outputs": [
    {
     "data": {
      "image/png": "[encoded data removed]",
      "text/plain": [
       "<Figure size 640x480 with 1 Axes>"
      ]
     },
     "metadata": {},
     "output_type": "display_data"
    }
   ],
   "source": [
    "import os\n",
    "import pandas as pd\n",
    "import numpy as np\n",
    "import cv2\n",
    "import matplotlib.pyplot as plt\n",
    "from sklearn.model_selection import train_test_split\n",
    "import tensorflow as tf\n",
    "df= pd.read_csv(\"dataset_augmented.csv\")\n",
    "# Definimos el tamaño de entrada para EfficientNet B0\n",
    "IMG_SIZE = (224, 224)\n",
    "\n",
    "def load_and_preprocess_image(img_path):\n",
    "    \"\"\"Carga y preprocesa una imagen.\"\"\"\n",
    "    # Cargar imagen\n",
    "    img = cv2.imread(img_path)\n",
    "    # Redimensionar\n",
    "    img = cv2.resize(img, IMG_SIZE)\n",
    "    # Convertir a float32 y normalizar\n",
    "    img = img.astype('float32') / 255.0\n",
    "    return img\n",
    "\n",
    "# Probamos la función de carga con una imagen\n",
    "sample_img_path = df['ruta_imagen'].iloc[0]\n",
    "sample_img = load_and_preprocess_image(sample_img_path)\n",
    "\n",
    "plt.imshow(sample_img)\n",
    "plt.title(\"Imagen Preprocesada\")\n",
    "plt.axis(\"off\")\n",
    "plt.show()"
   ]
  },
  {
   "cell_type": "code",
   "execution_count": 435,
   "metadata": {},
   "outputs": [
    {
     "name": "stdout",
     "output_type": "stream",
     "text": [
      "Forma de images: (927, 224, 224, 3)\n",
      "Forma de labels: (927, 4)\n",
      "Forma de images: (927, 224, 224, 3)\n",
      "Forma de labels_one_hot: (927, 4)\n",
      "Forma de labels_integer: (927,)\n",
      "X_train shape: (741, 224, 224, 3), y_train shape: (741, 4)\n",
      "X_test shape: (186, 224, 224, 3), y_test shape: (186, 4)\n"
     ]
    }
   ],
   "source": [
    "from sklearn.model_selection import train_test_split\n",
    "# Definir las etiquetas utilizando las clases de interés\n",
    "labels = df[['Class_ASYM', 'Class_CIRC', 'Class_MISC', 'Class_NORM']].values\n",
    "\n",
    "# Carga todas las imágenes y sus respectivas etiquetas\n",
    "images = np.array([load_and_preprocess_image(img_path) for img_path in df['ruta_imagen']])\n",
    "\n",
    "print(f\"Forma de images: {images.shape}\")  # Debe ser (n_samples, 224, 224, 3)\n",
    "print(f\"Forma de labels: {labels.shape}\")  # Debe ser (n_samples, 4)\n",
    "\n",
    "# Definir las etiquetas one-hot\n",
    "labels_one_hot = df[['Class_ASYM', 'Class_CIRC', 'Class_MISC', 'Class_NORM']].values\n",
    "\n",
    "# Convertir las etiquetas one-hot a etiquetas enteras (1D) para la estratificación\n",
    "labels_integer = np.argmax(labels_one_hot, axis=1)\n",
    "\n",
    "# Carga todas las imágenes (asegúrate de que images_list no contenga None si alguna imagen falló en cargar)\n",
    "images_list = []\n",
    "valid_labels_one_hot = [] # Para mantener la correspondencia si alguna imagen no se carga\n",
    "for i, img_path in enumerate(df['ruta_imagen']):\n",
    "    img = load_and_preprocess_image(img_path) # Recuerda añadir cv2.cvtColor(img, cv2.COLOR_BGR2RGB) aquí\n",
    "    if img is not None:\n",
    "        images_list.append(img)\n",
    "        valid_labels_one_hot.append(labels_one_hot[i]) # Solo añade la etiqueta si la imagen se cargó\n",
    "\n",
    "images = np.array(images_list)\n",
    "labels_one_hot = np.array(valid_labels_one_hot) # Actualiza labels_one_hot si hubo imágenes que no cargaron\n",
    "labels_integer = np.argmax(labels_one_hot, axis=1) # Y recalcula labels_integer\n",
    "\n",
    "\n",
    "print(f\"Forma de images: {images.shape}\")\n",
    "print(f\"Forma de labels_one_hot: {labels_one_hot.shape}\")\n",
    "print(f\"Forma de labels_integer: {labels_integer.shape}\")\n",
    "\n",
    "# División en entrenamiento y prueba\n",
    "X_train, X_test, y_train_oh, y_test_oh = train_test_split(\n",
    "    images, labels_one_hot,\n",
    "    test_size=0.2,\n",
    "    random_state=42,\n",
    "    stratify=labels_integer \n",
    ")\n",
    "\n",
    "X_train_final, X_val, y_train_final_oh, y_val_oh = train_test_split(\n",
    "    X_train, y_train_oh,\n",
    "    test_size=0.2,\n",
    "    random_state=42,\n",
    "    stratify=np.argmax(y_train_oh, axis=1) \n",
    ")\n",
    "\n",
    "# Verificamos las formas de los conjuntos\n",
    "print(f\"X_train shape: {X_train.shape}, y_train shape: {y_train.shape}\")\n",
    "print(f\"X_test shape: {X_test.shape}, y_test shape: {y_test.shape}\")"
   ]
  },
  {
   "cell_type": "markdown",
   "metadata": {},
   "source": [
    "### Implementacion del modelo"
   ]
  },
  {
   "cell_type": "code",
   "execution_count": 436,
   "metadata": {},
   "outputs": [
    {
     "data": {
      "text/html": [
       "<pre style=\"white-space:pre;overflow-x:auto;line-height:normal;font-family:Menlo,'DejaVu Sans Mono',consolas,'Courier New',monospace\"><span style=\"font-weight: bold\">Model: \"sequential_18\"</span>\n",
       "</pre>\n"
      ],
      "text/plain": [
       "\u001b[1mModel: \"sequential_18\"\u001b[0m\n"
      ]
     },
     "metadata": {},
     "output_type": "display_data"
    },
    {
     "data": {
      "text/html": [
       "<pre style=\"white-space:pre;overflow-x:auto;line-height:normal;font-family:Menlo,'DejaVu Sans Mono',consolas,'Courier New',monospace\">┏━━━━━━━━━━━━━━━━━━━━━━━━━━━━━━━━━┳━━━━━━━━━━━━━━━━━━━━━━━━┳━━━━━━━━━━━━━━━┓\n",
       "┃<span style=\"font-weight: bold\"> Layer (type)                    </span>┃<span style=\"font-weight: bold\"> Output Shape           </span>┃<span style=\"font-weight: bold\">       Param # </span>┃\n",
       "┡━━━━━━━━━━━━━━━━━━━━━━━━━━━━━━━━━╇━━━━━━━━━━━━━━━━━━━━━━━━╇━━━━━━━━━━━━━━━┩\n",
       "│ efficientnetb0 (<span style=\"color: #0087ff; text-decoration-color: #0087ff\">Functional</span>)     │ (<span style=\"color: #00d7ff; text-decoration-color: #00d7ff\">None</span>, <span style=\"color: #00af00; text-decoration-color: #00af00\">7</span>, <span style=\"color: #00af00; text-decoration-color: #00af00\">7</span>, <span style=\"color: #00af00; text-decoration-color: #00af00\">1280</span>)     │     <span style=\"color: #00af00; text-decoration-color: #00af00\">4,049,571</span> │\n",
       "├─────────────────────────────────┼────────────────────────┼───────────────┤\n",
       "│ global_average_pooling2d_21     │ (<span style=\"color: #00d7ff; text-decoration-color: #00d7ff\">None</span>, <span style=\"color: #00af00; text-decoration-color: #00af00\">1280</span>)           │             <span style=\"color: #00af00; text-decoration-color: #00af00\">0</span> │\n",
       "│ (<span style=\"color: #0087ff; text-decoration-color: #0087ff\">GlobalAveragePooling2D</span>)        │                        │               │\n",
       "├─────────────────────────────────┼────────────────────────┼───────────────┤\n",
       "│ dense_87 (<span style=\"color: #0087ff; text-decoration-color: #0087ff\">Dense</span>)                │ (<span style=\"color: #00d7ff; text-decoration-color: #00d7ff\">None</span>, <span style=\"color: #00af00; text-decoration-color: #00af00\">128</span>)            │       <span style=\"color: #00af00; text-decoration-color: #00af00\">163,968</span> │\n",
       "├─────────────────────────────────┼────────────────────────┼───────────────┤\n",
       "│ dense_88 (<span style=\"color: #0087ff; text-decoration-color: #0087ff\">Dense</span>)                │ (<span style=\"color: #00d7ff; text-decoration-color: #00d7ff\">None</span>, <span style=\"color: #00af00; text-decoration-color: #00af00\">4</span>)              │           <span style=\"color: #00af00; text-decoration-color: #00af00\">516</span> │\n",
       "└─────────────────────────────────┴────────────────────────┴───────────────┘\n",
       "</pre>\n"
      ],
      "text/plain": [
       "┏━━━━━━━━━━━━━━━━━━━━━━━━━━━━━━━━━┳━━━━━━━━━━━━━━━━━━━━━━━━┳━━━━━━━━━━━━━━━┓\n",
       "┃\u001b[1m \u001b[0m\u001b[1mLayer (type)                   \u001b[0m\u001b[1m \u001b[0m┃\u001b[1m \u001b[0m\u001b[1mOutput Shape          \u001b[0m\u001b[1m \u001b[0m┃\u001b[1m \u001b[0m\u001b[1m      Param #\u001b[0m\u001b[1m \u001b[0m┃\n",
       "┡━━━━━━━━━━━━━━━━━━━━━━━━━━━━━━━━━╇━━━━━━━━━━━━━━━━━━━━━━━━╇━━━━━━━━━━━━━━━┩\n",
       "│ efficientnetb0 (\u001b[38;5;33mFunctional\u001b[0m)     │ (\u001b[38;5;45mNone\u001b[0m, \u001b[38;5;34m7\u001b[0m, \u001b[38;5;34m7\u001b[0m, \u001b[38;5;34m1280\u001b[0m)     │     \u001b[38;5;34m4,049,571\u001b[0m │\n",
       "├─────────────────────────────────┼────────────────────────┼───────────────┤\n",
       "│ global_average_pooling2d_21     │ (\u001b[38;5;45mNone\u001b[0m, \u001b[38;5;34m1280\u001b[0m)           │             \u001b[38;5;34m0\u001b[0m │\n",
       "│ (\u001b[38;5;33mGlobalAveragePooling2D\u001b[0m)        │                        │               │\n",
       "├─────────────────────────────────┼────────────────────────┼───────────────┤\n",
       "│ dense_87 (\u001b[38;5;33mDense\u001b[0m)                │ (\u001b[38;5;45mNone\u001b[0m, \u001b[38;5;34m128\u001b[0m)            │       \u001b[38;5;34m163,968\u001b[0m │\n",
       "├─────────────────────────────────┼────────────────────────┼───────────────┤\n",
       "│ dense_88 (\u001b[38;5;33mDense\u001b[0m)                │ (\u001b[38;5;45mNone\u001b[0m, \u001b[38;5;34m4\u001b[0m)              │           \u001b[38;5;34m516\u001b[0m │\n",
       "└─────────────────────────────────┴────────────────────────┴───────────────┘\n"
      ]
     },
     "metadata": {},
     "output_type": "display_data"
    },
    {
     "data": {
      "text/html": [
       "<pre style=\"white-space:pre;overflow-x:auto;line-height:normal;font-family:Menlo,'DejaVu Sans Mono',consolas,'Courier New',monospace\"><span style=\"font-weight: bold\"> Total params: </span><span style=\"color: #00af00; text-decoration-color: #00af00\">4,214,055</span> (16.08 MB)\n",
       "</pre>\n"
      ],
      "text/plain": [
       "\u001b[1m Total params: \u001b[0m\u001b[38;5;34m4,214,055\u001b[0m (16.08 MB)\n"
      ]
     },
     "metadata": {},
     "output_type": "display_data"
    },
    {
     "data": {
      "text/html": [
       "<pre style=\"white-space:pre;overflow-x:auto;line-height:normal;font-family:Menlo,'DejaVu Sans Mono',consolas,'Courier New',monospace\"><span style=\"font-weight: bold\"> Trainable params: </span><span style=\"color: #00af00; text-decoration-color: #00af00\">164,484</span> (642.52 KB)\n",
       "</pre>\n"
      ],
      "text/plain": [
       "\u001b[1m Trainable params: \u001b[0m\u001b[38;5;34m164,484\u001b[0m (642.52 KB)\n"
      ]
     },
     "metadata": {},
     "output_type": "display_data"
    },
    {
     "data": {
      "text/html": [
       "<pre style=\"white-space:pre;overflow-x:auto;line-height:normal;font-family:Menlo,'DejaVu Sans Mono',consolas,'Courier New',monospace\"><span style=\"font-weight: bold\"> Non-trainable params: </span><span style=\"color: #00af00; text-decoration-color: #00af00\">4,049,571</span> (15.45 MB)\n",
       "</pre>\n"
      ],
      "text/plain": [
       "\u001b[1m Non-trainable params: \u001b[0m\u001b[38;5;34m4,049,571\u001b[0m (15.45 MB)\n"
      ]
     },
     "metadata": {},
     "output_type": "display_data"
    },
    {
     "name": "stdout",
     "output_type": "stream",
     "text": [
      "Epoch 1/100\n",
      "\u001b[1m19/19\u001b[0m \u001b[32m━━━━━━━━━━━━━━━━━━━━\u001b[0m\u001b[37m\u001b[0m \u001b[1m0s\u001b[0m 232ms/step - accuracy: 0.2329 - loss: 1.2429"
     ]
    },
    {
     "name": "stderr",
     "output_type": "stream",
     "text": [
      "WARNING:absl:You are saving your model as an HDF5 file via `model.save()` or `keras.saving.save_model(model)`. This file format is considered legacy. We recommend using instead the native Keras format, e.g. `model.save('my_model.keras')` or `keras.saving.save_model(model, 'my_model.keras')`. \n"
     ]
    },
    {
     "name": "stdout",
     "output_type": "stream",
     "text": [
      "\u001b[1m19/19\u001b[0m \u001b[32m━━━━━━━━━━━━━━━━━━━━\u001b[0m\u001b[37m\u001b[0m \u001b[1m10s\u001b[0m 403ms/step - accuracy: 0.2330 - loss: 1.2403 - val_accuracy: 0.2416 - val_loss: 1.1863\n",
      "Epoch 2/100\n",
      "\u001b[1m19/19\u001b[0m \u001b[32m━━━━━━━━━━━━━━━━━━━━\u001b[0m\u001b[37m\u001b[0m \u001b[1m0s\u001b[0m 227ms/step - accuracy: 0.2606 - loss: 1.2078"
     ]
    },
    {
     "name": "stderr",
     "output_type": "stream",
     "text": [
      "WARNING:absl:You are saving your model as an HDF5 file via `model.save()` or `keras.saving.save_model(model)`. This file format is considered legacy. We recommend using instead the native Keras format, e.g. `model.save('my_model.keras')` or `keras.saving.save_model(model, 'my_model.keras')`. \n"
     ]
    },
    {
     "name": "stdout",
     "output_type": "stream",
     "text": [
      "\u001b[1m19/19\u001b[0m \u001b[32m━━━━━━━━━━━━━━━━━━━━\u001b[0m\u001b[37m\u001b[0m \u001b[1m6s\u001b[0m 291ms/step - accuracy: 0.2595 - loss: 1.2069 - val_accuracy: 0.2416 - val_loss: 1.1791\n",
      "Epoch 3/100\n",
      "\u001b[1m19/19\u001b[0m \u001b[32m━━━━━━━━━━━━━━━━━━━━\u001b[0m\u001b[37m\u001b[0m \u001b[1m0s\u001b[0m 207ms/step - accuracy: 0.2271 - loss: 1.2190"
     ]
    },
    {
     "name": "stderr",
     "output_type": "stream",
     "text": [
      "WARNING:absl:You are saving your model as an HDF5 file via `model.save()` or `keras.saving.save_model(model)`. This file format is considered legacy. We recommend using instead the native Keras format, e.g. `model.save('my_model.keras')` or `keras.saving.save_model(model, 'my_model.keras')`. \n"
     ]
    },
    {
     "name": "stdout",
     "output_type": "stream",
     "text": [
      "\u001b[1m19/19\u001b[0m \u001b[32m━━━━━━━━━━━━━━━━━━━━\u001b[0m\u001b[37m\u001b[0m \u001b[1m5s\u001b[0m 266ms/step - accuracy: 0.2267 - loss: 1.2177 - val_accuracy: 0.2349 - val_loss: 1.1715\n",
      "Epoch 4/100\n",
      "\u001b[1m19/19\u001b[0m \u001b[32m━━━━━━━━━━━━━━━━━━━━\u001b[0m\u001b[37m\u001b[0m \u001b[1m5s\u001b[0m 259ms/step - accuracy: 0.2439 - loss: 1.1585 - val_accuracy: 0.2349 - val_loss: 1.1901\n",
      "Epoch 5/100\n",
      "\u001b[1m19/19\u001b[0m \u001b[32m━━━━━━━━━━━━━━━━━━━━\u001b[0m\u001b[37m\u001b[0m \u001b[1m5s\u001b[0m 257ms/step - accuracy: 0.1884 - loss: 1.2054 - val_accuracy: 0.2416 - val_loss: 1.1927\n",
      "Epoch 6/100\n",
      "\u001b[1m19/19\u001b[0m \u001b[32m━━━━━━━━━━━━━━━━━━━━\u001b[0m\u001b[37m\u001b[0m \u001b[1m5s\u001b[0m 257ms/step - accuracy: 0.2437 - loss: 1.2323 - val_accuracy: 0.2215 - val_loss: 1.2761\n",
      "Epoch 7/100\n",
      "\u001b[1m19/19\u001b[0m \u001b[32m━━━━━━━━━━━━━━━━━━━━\u001b[0m\u001b[37m\u001b[0m \u001b[1m5s\u001b[0m 257ms/step - accuracy: 0.1838 - loss: 1.2161 - val_accuracy: 0.2416 - val_loss: 1.2889\n",
      "Epoch 8/100\n",
      "\u001b[1m19/19\u001b[0m \u001b[32m━━━━━━━━━━━━━━━━━━━━\u001b[0m\u001b[37m\u001b[0m \u001b[1m5s\u001b[0m 256ms/step - accuracy: 0.2289 - loss: 1.1867 - val_accuracy: 0.2349 - val_loss: 1.1747\n"
     ]
    }
   ],
   "source": [
    "from tensorflow.keras.applications import EfficientNetB0\n",
    "from tensorflow.keras.models import Sequential\n",
    "from tensorflow.keras.layers import Dense, GlobalAveragePooling2D\n",
    "from tensorflow.keras.optimizers import Adam\n",
    "\n",
    "# Número de clases (4 clases: ASYM, CIRC, MISC, NORM)\n",
    "NUM_CLASSES = 4\n",
    "\n",
    "# Cargar EfficientNet B0 preentrenado en ImageNet, sin la capa superior\n",
    "base_model = EfficientNetB0(weights='imagenet', include_top=False, input_shape=(224, 224, 3))\n",
    "base_model.trainable = False\n",
    "\n",
    "# Modelo secuencial\n",
    "model = Sequential([\n",
    "    base_model,\n",
    "    GlobalAveragePooling2D(),\n",
    "    Dense(128, activation='relu'),  # Capa oculta\n",
    "    Dense(NUM_CLASSES, activation='softmax')  # Capa de salida con softmax\n",
    "])\n",
    "\n",
    "# Compilamos el modelo\n",
    "model.compile(\n",
    "    optimizer=Adam(learning_rate=0.001),\n",
    "    loss='categorical_crossentropy',\n",
    "    metrics=['accuracy']\n",
    ")\n",
    "\n",
    "# Resumen del modelo\n",
    "model.summary()\n",
    "\n",
    "from tensorflow.keras.callbacks import EarlyStopping, ModelCheckpoint\n",
    "\n",
    "# Configuramos callbacks\n",
    "early_stop = EarlyStopping(monitor='val_loss', patience=5, restore_best_weights=True)\n",
    "\n",
    "checkpoint = ModelCheckpoint('best_model.h5', monitor='val_loss', save_best_only=True)\n",
    "\n",
    "# Entrenar el modelo\n",
    "history = model.fit(\n",
    "    X_train_final, y_train_final_oh,\n",
    "    validation_data=(X_val, y_val_oh), # Pasas los datos de validación explícitamente\n",
    "    epochs=100,\n",
    "    batch_size=32,\n",
    "    callbacks=[early_stop, checkpoint]\n",
    ")"
   ]
  },
  {
   "cell_type": "code",
   "execution_count": 437,
   "metadata": {},
   "outputs": [
    {
     "name": "stdout",
     "output_type": "stream",
     "text": [
      "6/6 - 1s - 208ms/step - accuracy: 0.2258 - loss: 1.1848\n",
      "Loss en test: 1.1848\n",
      "Accuracy en test: 0.2258\n"
     ]
    }
   ],
   "source": [
    "# Evaluar el modelo en el conjunto de prueba\n",
    "test_loss, test_acc = model.evaluate(X_test, y_test, verbose=2)\n",
    "\n",
    "print(f\"Loss en test: {test_loss:.4f}\")\n",
    "print(f\"Accuracy en test: {test_acc:.4f}\")"
   ]
  },
  {
   "cell_type": "code",
   "execution_count": 438,
   "metadata": {},
   "outputs": [
    {
     "name": "stdout",
     "output_type": "stream",
     "text": [
      "\u001b[1m6/6\u001b[0m \u001b[32m━━━━━━━━━━━━━━━━━━━━\u001b[0m\u001b[37m\u001b[0m \u001b[1m2s\u001b[0m 331ms/step\n"
     ]
    },
    {
     "data": {
      "image/png": "[encoded data removed]",
      "text/plain": [
       "<Figure size 640x480 with 2 Axes>"
      ]
     },
     "metadata": {},
     "output_type": "display_data"
    },
    {
     "name": "stdout",
     "output_type": "stream",
     "text": [
      "Reporte de clasificación:\n",
      "              precision    recall  f1-score   support\n",
      "\n",
      "        ASYM       0.00      0.00      0.00        56\n",
      "        CIRC       0.00      0.00      0.00        38\n",
      "        MISC       0.23      1.00      0.37        42\n",
      "        NORM       0.00      0.00      0.00        50\n",
      "\n",
      "    accuracy                           0.23       186\n",
      "   macro avg       0.06      0.25      0.09       186\n",
      "weighted avg       0.05      0.23      0.08       186\n",
      "\n"
     ]
    },
    {
     "name": "stderr",
     "output_type": "stream",
     "text": [
      "/Users/mafer/my_new_env/lib/python3.12/site-packages/sklearn/metrics/_classification.py:1531: UndefinedMetricWarning: Precision is ill-defined and being set to 0.0 in labels with no predicted samples. Use `zero_division` parameter to control this behavior.\n",
      "  _warn_prf(average, modifier, f\"{metric.capitalize()} is\", len(result))\n",
      "/Users/mafer/my_new_env/lib/python3.12/site-packages/sklearn/metrics/_classification.py:1531: UndefinedMetricWarning: Precision is ill-defined and being set to 0.0 in labels with no predicted samples. Use `zero_division` parameter to control this behavior.\n",
      "  _warn_prf(average, modifier, f\"{metric.capitalize()} is\", len(result))\n",
      "/Users/mafer/my_new_env/lib/python3.12/site-packages/sklearn/metrics/_classification.py:1531: UndefinedMetricWarning: Precision is ill-defined and being set to 0.0 in labels with no predicted samples. Use `zero_division` parameter to control this behavior.\n",
      "  _warn_prf(average, modifier, f\"{metric.capitalize()} is\", len(result))\n"
     ]
    }
   ],
   "source": [
    "from sklearn.metrics import confusion_matrix, ConfusionMatrixDisplay, classification_report\n",
    "import numpy as np\n",
    "import matplotlib.pyplot as plt\n",
    "\n",
    "y_pred_probs = model.predict(X_test)\n",
    "y_pred = np.argmax(y_pred_probs, axis=1)  \n",
    "y_true = np.argmax(y_test, axis=1)       \n",
    "\n",
    "\n",
    "class_names = ['ASYM', 'CIRC', 'MISC', 'NORM']\n",
    "\n",
    "\n",
    "cm = confusion_matrix(y_true, y_pred)\n",
    "\n",
    "\n",
    "disp = ConfusionMatrixDisplay(confusion_matrix=cm, display_labels=class_names)\n",
    "disp.plot(cmap=plt.cm.Blues)\n",
    "plt.title(\"Matriz de Confusión\")\n",
    "plt.show()\n",
    "\n",
    "print(\"Reporte de clasificación:\")\n",
    "print(classification_report(y_true, y_pred, target_names=class_names))\n"
   ]
  },
  {
   "cell_type": "code",
   "execution_count": 439,
   "metadata": {},
   "outputs": [
    {
     "name": "stdout",
     "output_type": "stream",
     "text": [
      "ASYM: 282 muestras\n",
      "CIRC: 224 muestras\n",
      "MISC: 214 muestras\n",
      "NORM: 207 muestras\n"
     ]
    }
   ],
   "source": [
    "import numpy as np\n",
    "labels_argmax = np.argmax(labels, axis=1)\n",
    "unique, counts = np.unique(labels_argmax, return_counts=True)\n",
    "for class_name, count in zip(['ASYM', 'CIRC', 'MISC', 'NORM'], counts):\n",
    "    print(f\"{class_name}: {count} muestras\")\n",
    "\n"
   ]
  }
 ],
 "metadata": {
  "kernelspec": {
   "display_name": "my_new_env",
   "language": "python",
   "name": "python3"
  },
  "language_info": {
   "codemirror_mode": {
    "name": "ipython",
    "version": 3
   },
   "file_extension": ".py",
   "mimetype": "text/x-python",
   "name": "python",
   "nbconvert_exporter": "python",
   "pygments_lexer": "ipython3",
   "version": "3.12.7"
  }
 },
 "nbformat": 4,
 "nbformat_minor": 2
}
